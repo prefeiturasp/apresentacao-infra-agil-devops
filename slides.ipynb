{
 "cells": [
  {
   "cell_type": "markdown",
   "metadata": {
    "collapsed": false,
    "slideshow": {
     "slide_type": "slide"
    }
   },
   "source": [
    "# Implantação de Infraestrutura ágil e cultura DevOps na Secretaria Municipal de Educação de São Paulo"
   ]
  },
  {
   "cell_type": "markdown",
   "metadata": {
    "slideshow": {
     "slide_type": "slide"
    }
   },
   "source": [
    "# O que queremos?"
   ]
  },
  {
   "cell_type": "markdown",
   "metadata": {
    "slideshow": {
     "slide_type": "fragment"
    }
   },
   "source": [
    "Dores\n",
    "* Dificuldade de utilizar recursos computacionais que estão ociosos\n",
    "* Baixa agilidade, inclusive em tarefas simples\n",
    "* Pouco monitoramento de sistemas críticos"
   ]
  },
  {
   "cell_type": "markdown",
   "metadata": {
    "slideshow": {
     "slide_type": "fragment"
    }
   },
   "source": [
    "Demandas\n",
    "\n",
    "* Infraestrutura ágil\n",
    "* Cultura DevOps (Development and Operation)"
   ]
  },
  {
   "cell_type": "markdown",
   "metadata": {
    "slideshow": {
     "slide_type": "subslide"
    }
   },
   "source": [
    "## Por que DevOps?"
   ]
  },
  {
   "cell_type": "markdown",
   "metadata": {
    "slideshow": {
     "slide_type": "fragment"
    }
   },
   "source": [
    "Benefícios\n",
    "* Produtividade\n",
    "* Entrega de valor (time to market)\n",
    "* Redução de custos"
   ]
  },
  {
   "cell_type": "markdown",
   "metadata": {
    "slideshow": {
     "slide_type": "fragment"
    }
   },
   "source": [
    "Desafios\n",
    "* Mudança de cultura\n",
    "* Integração das equipes\n",
    "* Rupturas tecnológicas"
   ]
  },
  {
   "cell_type": "markdown",
   "metadata": {
    "slideshow": {
     "slide_type": "subslide"
    }
   },
   "source": [
    "## O que é DevOps?"
   ]
  },
  {
   "cell_type": "markdown",
   "metadata": {
    "slideshow": {
     "slide_type": "fragment"
    }
   },
   "source": [
    "<center><img src=\"images/devops.png\"></center>"
   ]
  },
  {
   "cell_type": "markdown",
   "metadata": {
    "slideshow": {
     "slide_type": "subslide"
    }
   },
   "source": [
    "## O que a infra precisa prover (requisitos)?\n",
    "\n",
    "* Provisionamento e orquestração\n",
    "* Automação ponta-a-ponta\n",
    "* Autosserviço e monitoramento\n",
    "* Gestão de conhecimento (documentação)"
   ]
  },
  {
   "cell_type": "markdown",
   "metadata": {
    "slideshow": {
     "slide_type": "subslide"
    }
   },
   "source": [
    "<center><img src=\"images/iac.jpg\"></center>"
   ]
  },
  {
   "cell_type": "markdown",
   "metadata": {
    "slideshow": {
     "slide_type": "subslide"
    }
   },
   "source": [
    "<center><img src=\"images/infrastructure.jpg\"></center>"
   ]
  },
  {
   "cell_type": "markdown",
   "metadata": {
    "slideshow": {
     "slide_type": "slide"
    }
   },
   "source": [
    "# Arquitetura tecnológica para IaaS na SME"
   ]
  },
  {
   "cell_type": "markdown",
   "metadata": {
    "slideshow": {
     "slide_type": "subslide"
    }
   },
   "source": [
    "## Ferramentas"
   ]
  },
  {
   "cell_type": "markdown",
   "metadata": {
    "slideshow": {
     "slide_type": "fragment"
    }
   },
   "source": [
    "### Virtualização e provisionamento\n",
    "\n",
    "* KVM + oVirt: \n",
    "    * (+) portal de autosserviço e gerenciamento de cotas\n",
    "    * (+) interoperável com o ecossistema\n",
    "    * (-) licenciamento de cada máquina Windows \n",
    "* Hyper-V:\n",
    "    * (+) facilidade para licenciar parque Windows\n",
    "    * (-) não tem plugin para Foreman para autosserviço\n",
    "    * (-) dificuldade para automatização de servidores Linux"
   ]
  },
  {
   "cell_type": "markdown",
   "metadata": {
    "slideshow": {
     "slide_type": "subslide"
    }
   },
   "source": [
    "### Orquestração e interface de autosserviço\n",
    "\n",
    "* Foreman\n",
    "\n",
    "    * Quem usa? CERN (Switzerland), eBay, Mozilla, Citrix, Ericsson e [outros mais](http://projects.theforeman.org/projects/foreman/wiki/Who_Uses_Foreman)\n"
   ]
  },
  {
   "cell_type": "markdown",
   "metadata": {
    "slideshow": {
     "slide_type": "subslide"
    }
   },
   "source": [
    "### Monitoramento\n",
    "\n",
    "* Zabbix\n",
    "\n",
    "### Documentação\n",
    "\n",
    "* PHPIPAM\n",
    "* Wiki no GitLab"
   ]
  },
  {
   "cell_type": "markdown",
   "metadata": {
    "slideshow": {
     "slide_type": "subslide"
    }
   },
   "source": [
    "## Arquitetura implementada\n",
    "\n",
    "<center><img src=\"images/arq_implementada.png\"></center>\n"
   ]
  },
  {
   "cell_type": "markdown",
   "metadata": {
    "slideshow": {
     "slide_type": "subslide"
    }
   },
   "source": [
    "### Disponibilidade e escalabilidade\n",
    "\n",
    "* Escalabilidade: \n",
    "    * possibilidade de expansão dos recursos gerenciados\n",
    "    * possibilidade de integração com nuvem\n",
    "* Disponibilidade:\n",
    "    * funcionalidade nativa de live migration sem licenciamento\n"
   ]
  },
  {
   "cell_type": "markdown",
   "metadata": {
    "slideshow": {
     "slide_type": "slide"
    }
   },
   "source": [
    "## Próximos passos para IaaS\n",
    "\n",
    "* Documentação automatizada para provisionamento de IP (IPAM)\n",
    "* Foreman gerenciar o DNS\n",
    "* [Implementar criação de VM Windows Server no Foreman](https://www.inovex.de/blog/deploying-windows-server-with-foreman-in-vsphere/)\n",
    "* Agenda positiva com fornecedores para otimização de ativos\n",
    "* Testar plugin do Foreman para a Azure\n",
    "* Implementar oVirt Manager em HA para maior resiliência\n"
   ]
  },
  {
   "cell_type": "markdown",
   "metadata": {
    "slideshow": {
     "slide_type": "slide"
    }
   },
   "source": [
    "# Visão de futuro"
   ]
  },
  {
   "cell_type": "markdown",
   "metadata": {
    "slideshow": {
     "slide_type": "fragment"
    }
   },
   "source": [
    "* Sinergia entre cultura DevOps, arquitetura técnica habilitadora e comunidade técnica\n",
    "* Inovação e colaboração\n"
   ]
  },
  {
   "cell_type": "markdown",
   "metadata": {
    "slideshow": {
     "slide_type": "slide"
    }
   },
   "source": [
    "<center><img src=\"images/educacao_horizontal.png\"></center>"
   ]
  }
 ],
 "metadata": {
  "anaconda-cloud": {},
  "celltoolbar": "Slideshow",
  "kernelspec": {
   "display_name": "Python [conda root]",
   "language": "python",
   "name": "conda-root-py"
  },
  "language_info": {
   "codemirror_mode": {
    "name": "ipython",
    "version": 3
   },
   "file_extension": ".py",
   "mimetype": "text/x-python",
   "name": "python",
   "nbconvert_exporter": "python",
   "pygments_lexer": "ipython3",
   "version": "3.5.2"
  }
 },
 "nbformat": 4,
 "nbformat_minor": 1
}
