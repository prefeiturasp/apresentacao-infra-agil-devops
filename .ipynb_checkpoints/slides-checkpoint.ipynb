{
 "cells": [
  {
   "cell_type": "markdown",
   "metadata": {
    "collapsed": false,
    "slideshow": {
     "slide_type": "slide"
    }
   },
   "source": [
    "# Implantação de Infraestrutura ágil e cultura DevOps na Secretaria Municipal de Educação de São Paulo"
   ]
  },
  {
   "cell_type": "markdown",
   "metadata": {
    "slideshow": {
     "slide_type": "slide"
    }
   },
   "source": [
    "# Infra ágil e DevOps"
   ]
  },
  {
   "cell_type": "markdown",
   "metadata": {
    "slideshow": {
     "slide_type": "fragment"
    }
   },
   "source": [
    "* Infraestrutura ágil\n",
    "* A Cultura DevOps (Development and Operation)"
   ]
  },
  {
   "cell_type": "markdown",
   "metadata": {
    "slideshow": {
     "slide_type": "subslide"
    }
   },
   "source": [
    "<center><img src=\"images/iac.jpg\"></center>"
   ]
  },
  {
   "cell_type": "markdown",
   "metadata": {
    "slideshow": {
     "slide_type": "subslide"
    }
   },
   "source": [
    "* Provisionamento e orquestração\n",
    "* Automação\n",
    "* Autosserviço e monitoramento\n",
    "* Gestão de conhecimento (documentação)"
   ]
  },
  {
   "cell_type": "markdown",
   "metadata": {
    "slideshow": {
     "slide_type": "subslide"
    }
   },
   "source": [
    "<center><img src=\"images/infrastructure.jpg\"></center>"
   ]
  },
  {
   "cell_type": "markdown",
   "metadata": {
    "slideshow": {
     "slide_type": "slide"
    }
   },
   "source": [
    "# Arquitetura tecnológica para IaaS na SME"
   ]
  },
  {
   "cell_type": "markdown",
   "metadata": {
    "slideshow": {
     "slide_type": "subslide"
    }
   },
   "source": [
    "## Ferramentas"
   ]
  },
  {
   "cell_type": "markdown",
   "metadata": {
    "slideshow": {
     "slide_type": "fragment"
    }
   },
   "source": [
    "### Virtualização e provisionamento\n",
    "\n",
    "* KVM + oVirt: (+) funcionalidade nativa de live migration sem licenciamento; (-) \n",
    "* VMWare: (+) ,  (-) custo\n",
    "* Hyper-V: (+) suporte por meio de licença educacional ; (-) não tem plugin para Foreman, performance ruim com o uso de servidores Linux"
   ]
  },
  {
   "cell_type": "markdown",
   "metadata": {
    "slideshow": {
     "slide_type": "subslide"
    }
   },
   "source": [
    "### Orchestração e interface de autosserviço\n",
    "\n",
    "* Foreman\n",
    "\n",
    "### Monitoramento\n",
    "\n",
    "* Zabbix\n",
    "\n",
    "### Documentação\n",
    "\n",
    "* PHPIPAM\n",
    "* Wiki no GitLab\n"
   ]
  },
  {
   "cell_type": "markdown",
   "metadata": {
    "slideshow": {
     "slide_type": "subslide"
    }
   },
   "source": [
    "## Aquitetura implementada\n",
    "\n",
    "<center><img src=\"images/foreman.png\"></center>\n"
   ]
  },
  {
   "cell_type": "markdown",
   "metadata": {
    "slideshow": {
     "slide_type": "subslide"
    }
   },
   "source": [
    "### Disponibilidade e escalabilidade\n",
    "\n",
    "* Integração com nuvem\n",
    "* Escalabilidade: possibilidade de criação de clusters para expansão dos recursos gerenciados\n",
    "* Disponibilidade\n"
   ]
  },
  {
   "cell_type": "markdown",
   "metadata": {
    "slideshow": {
     "slide_type": "slide"
    }
   },
   "source": [
    "## Próximos passos para IaaS\n",
    "\n",
    "* Documentação automatizada para provisionamento de IP (IPAM)\n",
    "* Foreman gerenciar o DNS\n",
    "* Agenda positiva com fornecedores para otimização de ativos\n",
    "* Testar plugin do Foreman para a Azure\n",
    "* oVirt Manager em HA para maior resiliência\n"
   ]
  },
  {
   "cell_type": "markdown",
   "metadata": {
    "slideshow": {
     "slide_type": "slide"
    }
   },
   "source": [
    "# Visão de futuro da infra"
   ]
  },
  {
   "cell_type": "markdown",
   "metadata": {
    "slideshow": {
     "slide_type": "fragment"
    }
   },
   "source": [
    "* Sinergia entre cultura DevOps, arquitetura técnica habilitadora e comunidade técnica\n",
    "\n"
   ]
  },
  {
   "cell_type": "markdown",
   "metadata": {
    "slideshow": {
     "slide_type": "slide"
    }
   },
   "source": [
    "<center><img src=\"images/educacao_horizontal.png\"></center>"
   ]
  }
 ],
 "metadata": {
  "anaconda-cloud": {},
  "celltoolbar": "Slideshow",
  "kernelspec": {
   "display_name": "Python [conda root]",
   "language": "python",
   "name": "conda-root-py"
  },
  "language_info": {
   "codemirror_mode": {
    "name": "ipython",
    "version": 3
   },
   "file_extension": ".py",
   "mimetype": "text/x-python",
   "name": "python",
   "nbconvert_exporter": "python",
   "pygments_lexer": "ipython3",
   "version": "3.5.2"
  }
 },
 "nbformat": 4,
 "nbformat_minor": 1
}
